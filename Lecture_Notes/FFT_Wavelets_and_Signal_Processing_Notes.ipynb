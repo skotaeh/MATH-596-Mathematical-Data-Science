{
 "cells": [
  {
   "cell_type": "code",
   "execution_count": null,
   "id": "2dfd3579",
   "metadata": {},
   "outputs": [],
   "source": [
    "from scipy.fft import fft, ifft, fftshift, fft2, ifft2\n",
    "from scipy.signal import stft\n",
    "import numpy as np\n",
    "import matplotlib.pyplot as plt\n",
    "from skimage import io\n",
    "import pywt\n",
    "from scipy.io.wavfile import read as wave_read\n",
    "%matplotlib inline "
   ]
  },
  {
   "cell_type": "code",
   "execution_count": null,
   "id": "fe962192",
   "metadata": {},
   "outputs": [],
   "source": [
    "# We need a tool that converts images into grayscale (i.e. all pixel values in [0, 1])\n",
    "def gray_scale_convert(image):\n",
    "    rescaled_image = np.zeros((image.shape[0], image.shape[1]))\n",
    "    rescaled_image[:, :] = image\n",
    "    rescaled_image -= np.min(rescaled_image)\n",
    "    rescaled_image /= np.max(rescaled_image)\n",
    "    return rescaled_image"
   ]
  },
  {
   "cell_type": "markdown",
   "id": "8bab6125",
   "metadata": {},
   "source": [
    "# Noisy Signals\n",
    "\n",
    "Just to get a sense of the power of the FFT, we look at the signal \n",
    "\n",
    "$$\n",
    "s(t) = \\cos(2t) + \\sin(3t) + \\epsilon(t),  \\epsilon(t) \\sim \\mathcal{N}(0, 1).\n",
    "$$"
   ]
  },
  {
   "cell_type": "code",
   "execution_count": null,
   "id": "207f409a",
   "metadata": {},
   "outputs": [],
   "source": [
    "Npts = int(2**8)\n",
    "times = np.linspace(0., 20.*np.pi, Npts)\n",
    "rvals = np.random.randn(Npts)\n",
    "sfun = lambda t: np.cos(2.*t) + np.sin(3.*t)\n",
    "svals = sfun(times) + rvals\n",
    "\n",
    "plt.plot(times, svals, 'k')\n",
    "#plt.plot(times, sfun(times), 'r--')"
   ]
  },
  {
   "cell_type": "code",
   "execution_count": null,
   "id": "195de3f6",
   "metadata": {},
   "outputs": [],
   "source": [
    "sfreq = fft(svals)\n",
    "sfreq_plot = np.abs(fftshift(sfreq[:]))/np.sqrt(Npts)\n",
    "kvals = np.arange(0, int(Npts/2)) * (2.*np.pi)/(20.*np.pi)\n",
    "\n",
    "fig, axes = plt.subplots(1, 2, figsize=(10, 4))\n",
    "ax = axes.ravel()\n",
    "ax[0].plot(times, svals, 'k')\n",
    "ax[0].set_xlabel(r\"$t$\")\n",
    "ax[0].set_ylabel(r\"$s(t)$\")\n",
    "\n",
    "ax[1].plot(kvals, sfreq_plot[int(Npts/2):], 'k')\n",
    "ax[1].set_xlabel(r\"$k$\")\n",
    "ax[1].set_ylabel(r\"$|\\hat{s}(k)|$\");\n"
   ]
  },
  {
   "cell_type": "markdown",
   "id": "66e62e5d",
   "metadata": {},
   "source": [
    "So now, if we want to denoise, we use the same kind of threshholding to maximum arguments we used for the SVD.  This looks like:"
   ]
  },
  {
   "cell_type": "code",
   "execution_count": null,
   "id": "630c00c1",
   "metadata": {},
   "outputs": [],
   "source": [
    "sfmax = np.max(np.abs(sfreq))\n",
    "indskp = np.ma.log2(np.abs(sfreq)/sfmax) >= -1\n",
    "sfilter = np.zeros(sfreq.size, dtype=np.complex128)\n",
    "sfilter[indskp] = sfreq[indskp]\n",
    "sfilter_plot = fftshift(np.abs(sfilter))/np.sqrt(Npts)\n",
    "sdenoised = np.real(ifft(sfilter))\n",
    "\n",
    "fig, axes = plt.subplots(1, 2, figsize=(10, 4))\n",
    "ax = axes.ravel()\n",
    "ax[0].plot(times, sdenoised, 'k')\n",
    "#ax[0].plot(times, sfun(times), 'r--')\n",
    "ax[0].set_xlabel(r\"$t$\")\n",
    "ax[0].set_ylabel(r\"$s(t)$\")\n",
    "\n",
    "ax[1].plot(kvals, sfilter_plot[int(Npts/2):], 'k')\n",
    "ax[1].set_xlabel(r\"$k$\")\n",
    "ax[1].set_ylabel(r\"$|\\hat{s}(k)|$\");"
   ]
  },
  {
   "cell_type": "markdown",
   "id": "6964ccf8",
   "metadata": {},
   "source": [
    "## FFT Theory\n",
    "\n",
    "For $f(t+T)=f(t)$ with $f(t) \\in L_{2}([0, T])$, again, we define the Fourier coefficient $\\hat{f}_{n}$ for $n\\in \\mathbb{Z}$ as \n",
    "\n",
    "$$\n",
    "\\hat{f}_{n} = \\left<f,\\hat{e}_{n}\\right> = \\frac{1}{\\sqrt{T}}\\int_{0}^{T}f(t) e^{-2\\pi i n t/T} dt.  \n",
    "$$\n",
    "\n",
    "With a modicum of theory, we can in turn write\n",
    "\n",
    "$$\n",
    "f(t) = \\sum_{n=-\\infty}^{\\infty}\\hat{f}_{n}\\hat{e}_{n}(t), ~\\hat{e}_{n}(t) = \\frac{1}{\\sqrt{T}}e^{-2\\pi i n t/T}.\n",
    "$$\n",
    "\n",
    "We can think of the transition from $f(t)$ to the infinte vector $\\left(\\hat{f}_{n}\\right)_{n=-\\infty}^{\\infty}$ as the _forward_ transform, and the process of summing the terms $\\hat{f}_{n}\\hat{e}_{n}(t)$ as the _inverse_ transform.  \n",
    "\n",
    "Now, as we've examined in lecture and the homework, a central issue for Fourier transforms is the rate of decay of $\\hat{f}_{n}$.  As we know, if we take \n",
    "\n",
    "$$\n",
    "f(t) = \\left\\{\\begin{array}{rl} 0 & 0 \\leq t \\leq \\pi \\\\ 1 & \\pi < t < 2\\pi \\end{array}\\right.\n",
    "$$\n",
    "\n",
    "then \n",
    "\n",
    "$$\n",
    "\\hat{f}_{n} = \\left\\{\\begin{array}{rl} \\frac{i}{n}\\sqrt{\\frac{2}{\\pi}} & n ~\\text{odd} \\\\ 0 & n ~\\text{even}\\end{array}\\right.\n",
    "$$\n",
    "\n",
    "So that slow rate of decay combined with the limited number of modes of the FFT makes for a tricky situation.  To see what I mean, let's compute.  "
   ]
  },
  {
   "cell_type": "code",
   "execution_count": null,
   "id": "c306d0cd",
   "metadata": {},
   "outputs": [],
   "source": [
    "def step_fun(t):\n",
    "    if 0 <= t and t <= np.pi:\n",
    "        return 0\n",
    "    else:\n",
    "        return 1\n",
    "    \n",
    "def interp_freq(t, freq):\n",
    "    Npts = freq.size\n",
    "    hlf = int(Npts/2)\n",
    "    tpi = 2.*np.pi\n",
    "    nvals = np.append(np.arange(0, hlf+1), np.arange(-hlf+1, 0))\n",
    "    phase = np.exp(nvals * 1j * t)\n",
    "    return np.real(np.sum(freq * phase))/Npts"
   ]
  },
  {
   "cell_type": "code",
   "execution_count": null,
   "id": "e519e44b",
   "metadata": {},
   "outputs": [],
   "source": [
    "Npts = int(2**9)\n",
    "tvals = np.linspace(0., 2.*np.pi, Npts)\n",
    "fvals = [step_fun(tval) for tval in tvals]\n",
    "ffreq = fft(fvals)\n",
    "ffreq_plot = fftshift(np.abs(ffreq))"
   ]
  },
  {
   "cell_type": "code",
   "execution_count": null,
   "id": "6f8387a5",
   "metadata": {},
   "outputs": [],
   "source": [
    "fig, axes = plt.subplots(1, 2, figsize=(10, 4))\n",
    "ax = axes.ravel()\n",
    "\n",
    "ax[0].plot(tvals, fvals)\n",
    "ax[1].plot(ffreq_plot[int(Npts/2):])\n",
    "\n",
    "plt.tight_layout()"
   ]
  },
  {
   "cell_type": "code",
   "execution_count": null,
   "id": "654f69d9",
   "metadata": {},
   "outputs": [],
   "source": [
    "tvalsfine = np.linspace(0, 2.*np.pi, 2*Npts)\n",
    "interp_step = [interp_freq(tval, ffreq) for tval in tvalsfine]"
   ]
  },
  {
   "cell_type": "code",
   "execution_count": null,
   "id": "85a9ff34",
   "metadata": {},
   "outputs": [],
   "source": [
    "plt.plot(interp_step)"
   ]
  },
  {
   "cell_type": "markdown",
   "id": "6e74797b-0692-446f-8290-1799c6fa0890",
   "metadata": {},
   "source": [
    "## The Fourier Transform\n",
    "\n",
    "For $T$-periodic $f(t)$, if we let $T\\rightarrow \\infty$, we are lead to the trasnforms\n",
    "\n",
    "$$\n",
    "\\hat{f}(\\omega) = \\int_{-\\infty}^{\\infty}e^{-i\\omega t}f(t) dt, ~ f(t) = \\frac{1}{2\\pi}\\int_{-\\infty}^{\\infty} e^{i\\omega t}\\hat{f}(\\omega) d\\omega\n",
    "$$\n",
    "\n",
    "With these tranforms, we can now study signals which do not necessarily repeat or have any particular structure at all.  To wit, we now look at the square pulse \n",
    "$$\n",
    "I_{a}(t) = \\frac{1}{a} I\\left(\\frac{t}{a}\\right)\n",
    "$$ \n",
    "where $a>0$ and where  \n",
    "\n",
    "$$\n",
    "I(t) = \\left \\{ \n",
    "\\begin{array}{rl}\n",
    "1 & -\\frac{1}{2}\\leq t \\leq\\frac{1}{2}\\\\\n",
    "\\\\\n",
    "0 & |t| > \\frac{1}{2}\n",
    "\\end{array}\n",
    "\\right.\n",
    "$$\n",
    "\n",
    "We can readily see that \n",
    "\n",
    "$$\n",
    "\\hat{I}_{a}(\\omega) = \\frac{2}{\\omega a}\\sin\\left(\\frac{a\\omega}{2}\\right) = \\text{sinc}\\left(\\frac{a\\omega}{2}\\right)\n",
    "$$\n",
    "\n",
    "So let's plot and see what happens.  "
   ]
  },
  {
   "cell_type": "code",
   "execution_count": null,
   "id": "121dcb4d",
   "metadata": {},
   "outputs": [],
   "source": [
    "def sym_step(t):\n",
    "    if np.abs(t) <= .5:\n",
    "        return 1.\n",
    "    else:\n",
    "        return 0.\n",
    "\n",
    "scale_step = lambda t, a: sym_step(t/a)/a\n",
    "\n",
    "fig, axes = plt.subplots(1, 2, figsize=(10, 4))\n",
    "ax = axes.ravel()\n",
    "\n",
    "Npts = 101\n",
    "tvals = np.linspace(-10., 10., Npts)\n",
    "ovals = np.linspace(-10., 10., Npts)\n",
    "\n",
    "aval = 1.\n",
    "\n",
    "scale_eval = np.array([ scale_step(tval, aval) for tval in tvals ])\n",
    "\n",
    "ax[0].plot(tvals, scale_eval, c='k')\n",
    "ax[0].set_xlabel(r\"$t$\")\n",
    "ax[1].plot(ovals, np.sinc( ovals * aval/2. ), c='k')\n",
    "ax[1].set_xlabel(r\"$\\omega$\")\n",
    "\n",
    "plt.tight_layout()"
   ]
  },
  {
   "cell_type": "code",
   "execution_count": null,
   "id": "796c6904",
   "metadata": {},
   "outputs": [],
   "source": [
    "Npts = int(1e3)\n",
    "tw = 3.\n",
    "tvals = np.linspace(-tw, tw, Npts + 1)\n",
    "\n",
    "aval1 = 1.\n",
    "aval2 = 5.\n",
    "stepvals1 = np.array([scale_step(tval, aval1) for tval in tvals])\n",
    "stepvals2 = np.array([scale_step(tval, aval2) for tval in tvals])\n",
    "fft1 = np.real(fft(stepvals1))\n",
    "fft2 = np.real(fft(stepvals2))\n",
    "\n",
    "fig, axes = plt.subplots(1, 2, figsize=(10, 4))\n",
    "ax = axes.ravel()\n",
    "ax[0].plot(tvals, stepvals1, label=f\"$a={aval1}$\", color='k')\n",
    "ax[0].plot(tvals, stepvals2, label=f\"$a={aval2}$\", color='r', ls='--')\n",
    "ax[0].set_xlabel(r\"$t$\")\n",
    "ax[0].set_ylabel(r\"$f_{a}(t)$\")\n",
    "ax[0].legend()\n",
    "\n",
    "ax[1].plot(fft1[:int(Npts/10)], label=f\"$a={aval1}$\", color='k')\n",
    "ax[1].plot(fft2[:int(Npts/10)], label=f\"$a={aval2}$\", color='r', ls='--', alpha=.5)\n",
    "ax[1].set_xlabel(r\"$\\omega$\")\n",
    "ax[1].set_ylabel(r\"$\\hat{f}_{a}(\\omega)$\")\n",
    "ax[1].legend()"
   ]
  },
  {
   "cell_type": "markdown",
   "id": "e940a55e",
   "metadata": {},
   "source": [
    "So what's the problem here?  Well first off, because we have a discontinuous signal, we get a very slowly decaying spectral representation of said signal, so we get no compression via frequency space.  We see this problem exacerbated by comparing the $a=1$ and $a=5$ cases.  But what we also lose is the fact that our signal only is even \"on\" for a relatively short amout of time.  So, given that via Fourier methods there is no way to get around the lack of compression in frequency space for sharp signals, can we at least come up with a method that still identifies when signals turn off, on, or change in significant ways and that gives us frequency characterizations which change in time?  "
   ]
  },
  {
   "cell_type": "markdown",
   "id": "10276ed2-6f84-4eac-a062-603d90042180",
   "metadata": {},
   "source": [
    "## Short-Time-Fourier Transforms\n",
    "\n",
    "So what we have seen is that as we want to represent sharper features in time (or space in the context of images), if we want to stick with strict Fourier methods, we run into a wall in which sharper features demand ever more information from frequency space, making any kind of \"sparse\" or low-memory representation impossible.  \n",
    "\n",
    "A path out of this conudrum is to start to expand on our Fourier transform in clever ways that allow us to better represent sharp or more intricate features.  One way to do this is through the so called _Gabor_ (or Short-Time-Fourier) transform, defined for $f(t)$ as \n",
    "\n",
    "$$\n",
    "\\mathcal{G}(t,\\omega)\\{f\\} = \\int_{-\\infty}^{\\infty}f(\\tau)g_{W}(\\tau - t)e^{-i\\omega \\tau} d\\tau.  \n",
    "$$\n",
    "\n",
    "Here, $g_{W}(s)\\geq 0$ and is chosen to have finite support or to decay so quickly it effectively does.  A simple choice is to let \n",
    "\n",
    "$$\n",
    "g_{W}(s) = I(s/b), b > 0.\n",
    "$$\n",
    "\n",
    "In this case, we find that $\\mathcal{G}(t,\\omega)\\{I_{a}\\}$ is \n",
    "\n",
    "$$\n",
    "\\mathcal{G}(t,\\omega)\\{I_{a}\\} = \\frac{1}{a}\\int_{-a/2}^{a/2}I\\left(\\frac{\\tau - t}{b}\\right)e^{-i\\omega \\tau}.\n",
    "$$\n",
    "\n",
    "We of course have $I\\left(\\frac{\\tau - t}{b}\\right) = 1$ for $t-b/2\\leq \\tau \\leq t+b/2$, so the degree to which the intervals $[-a/2,a/2]$ and $[t-b/2,t+b/2]$ overlap is the extent to which the integral returns anything at all.  "
   ]
  },
  {
   "cell_type": "code",
   "execution_count": null,
   "id": "709ca82e",
   "metadata": {},
   "outputs": [],
   "source": [
    "bval = .5\n",
    "\n",
    "window1 = np.array([bval*scale_step(tval + .5, bval) for tval in tvals])\n",
    "window2 = np.array([bval*scale_step(tval - .65, bval) for tval in tvals])\n",
    "\n",
    "plt.plot(tvals, stepvals1, color='k')\n",
    "plt.plot(tvals, window1, c='r', ls='--', label=r\"$t=-.5$\")\n",
    "plt.plot(tvals, window2, c='b', ls='--', label=r\"$t=.65$\")\n",
    "plt.title(f\"Sliding window with b={bval}\")\n",
    "plt.legend()"
   ]
  },
  {
   "cell_type": "code",
   "execution_count": null,
   "id": "26196954",
   "metadata": {},
   "outputs": [],
   "source": [
    "def stft_window(a, b, t, omega):\n",
    "    if (t-b/2. > a/2.) or (t+b/2. < -a/2.):\n",
    "        return 0.\n",
    "    else:\n",
    "        lhs = np.max([-a/2., t-b/2.])\n",
    "        rhs = np.min([a/2., t+b/2.])\n",
    "        integral = lambda t: np.exp(-1j*omega*t)/(-1j*omega*a)\n",
    "        return np.abs( integral(rhs) - integral(lhs) )"
   ]
  },
  {
   "cell_type": "code",
   "execution_count": null,
   "id": "2a61a5e1",
   "metadata": {},
   "outputs": [],
   "source": [
    "a = 1.\n",
    "b = .5\n",
    "Npts = int(2e2)\n",
    "tvals = np.linspace(-4, 4, Npts+1)\n",
    "ovals = np.linspace(1e-3, 20., Npts+1)\n",
    "box_stft = np.zeros((Npts+1, Npts+1), dtype=np.float64)\n",
    "for jj in range(Npts+1):\n",
    "    for kk in range(Npts+1):\n",
    "        box_stft[kk, jj] = stft_window(a, b, tvals[jj], ovals[kk])\n",
    "\n",
    "plt.contourf(tvals, ovals, box_stft, levels=80)\n",
    "plt.xlabel(r\"$t$\")\n",
    "plt.ylabel(r\"$\\omega$\")\n",
    "plt.title(f\"Short Time Fourier Transform of Step with a={a} and b={b}.\")"
   ]
  },
  {
   "cell_type": "markdown",
   "id": "0c4e2cfc-3ff4-4fa3-885d-f057edac6d13",
   "metadata": {},
   "source": [
    "Now let's look at what an STFS of our steps looks like and also try to see if we can't use the intuition from our analytic computations to help us build feel for how to work with the STFS.  \n",
    "\n",
    "### A note on variables in the STFT\n",
    "\n",
    "So, there are two variables, `nperseg` and `noverlap`, which can have a big impact on what the results of your STFT looks like.  `nperseg` determines how many segments you separate your original signal into.  Suppose you have 1000 points in your original signal, and you set `nperseg=100`.  Then you will create 10 separate samples, over each of which you take a windowed Fourier transform.  `noverlap` (which is always strictly less than `nperseg`) determines by how many points in time the segments overlap.  If they never overlap, you get jagged, essentially discontinuous results.  Overlapping too much, and you tend to smear out details.  And all of this needs to be balanced against the width of your window.  For example, there is no point in choosing `nperseg` so large it involves computing points well outside the width of your window.     \n",
    "\n",
    "Throughout the remaining examples, we use the Gaussian windowing function so that $g_{W}(s;b) = e^{-s^2/b}$."
   ]
  },
  {
   "cell_type": "code",
   "execution_count": null,
   "id": "42e72909-3016-485b-8e06-782e1ac27e45",
   "metadata": {},
   "outputs": [],
   "source": [
    "# Okay, this while we can deal with this analytically, dealing with it numerically is a little bit of a nightmare\n",
    "# given how narrow our profiles are.  That said, if you choose seglength and noverlap to be very large, you can \n",
    "# make this do what you think it should.  \n",
    "\n",
    "Npts = int(1e3)\n",
    "tw = 3.\n",
    "tvals = np.linspace(-tw, tw, Npts + 1)\n",
    "\n",
    "aval1 = 1.\n",
    "aval2 = 5.\n",
    "stepvals1 = np.array([scale_step(tval, aval1) for tval in tvals])\n",
    "\n",
    "bval = 1.\n",
    "fs = Npts/(2*tw)\n",
    "\n",
    "f1, t1, Zxx1 = stft(stepvals1, fs=fs, window = ('boxcar'), nperseg=Npts, noverlap=Npts-1, boundary='even')\n",
    "f2, t2, Zxx2 = stft(stepvals1, fs=fs, window = ('gaussian', bval), nperseg=Npts, noverlap=Npts-1, boundary='even')\n",
    "\n",
    "scfac1 = np.max(np.abs(Zxx1))\n",
    "scfac2 = np.max(np.abs(Zxx2))\n",
    "\n",
    "fig, axes = plt.subplots(1, 2, figsize=(10, 4))\n",
    "ax = axes.ravel()\n",
    "ax[0].pcolormesh(t1-tw, f1, np.ma.log10(np.abs(Zxx1)/scfac1), shading='gouraud')\n",
    "ax[0].set_title(r\"Boxcar Filter(b=$\\infty$)\")\n",
    "ax[1].pcolormesh(t2-tw, f2, np.ma.log10(np.abs(Zxx2)/scfac2), shading='gouraud')\n",
    "ax[1].set_title(f\"b={bval}\")\n",
    "plt.tight_layout()"
   ]
  },
  {
   "cell_type": "markdown",
   "id": "58e9502f-858f-484e-8861-09f9385326b8",
   "metadata": {},
   "source": [
    "### Frequency Modulation through a Chirp\n",
    "\n",
    "So okay, cool, for a sharp feature, we now have a transform method which lets us track its behavior in both time and frequency.  This comes at a cost of losing some time resolution if we don't want to have an even more slowly decaying profile in frequency space.  \n",
    "\n",
    "What else might we do with our short-time Fourier transform?  A really classic example is studying frequency-modulated signals.  For example, what can we say about the signal\n",
    "\n",
    "$$\n",
    "f(t) = \\cos\\left(2\\pi f(t) t\\right),  ~f(t) = \\left(f_{0}  + (f_{1}-f_{0})\\frac{t^{2}}{3t_{w}^{2}}\\right)\n",
    "$$"
   ]
  },
  {
   "cell_type": "code",
   "execution_count": null,
   "id": "b42b59ff-7d07-4b9f-9f18-e976d9b1442f",
   "metadata": {},
   "outputs": [],
   "source": [
    "tpi = 2.*np.pi\n",
    "chirp = lambda t, om0, om1: np.cos(tpi*t*(om0 + (om1-om0)*t**2./(3.*tw**2.)))\n",
    "f0 = 50 # 50 Hz, \n",
    "f1 = 2.*f0 # 100 Hz\n",
    "Npts = int(4*f1) # sample at twice the highest frequency \n",
    "tw = 1. # this is understood to be 1 second of time\n",
    "tvals = np.linspace(0., tw, Npts + 1)\n",
    "chirpvals = chirp(tvals, f0, f1)\n",
    "fftchirp = np.abs(fft(chirpvals))\n",
    "\n",
    "fig, axes = plt.subplots(1, 2, figsize=(10, 4))\n",
    "ax = axes.ravel()\n",
    "ax[0].plot(tvals, chirpvals)\n",
    "ax[0].set_xlabel(r\"$t$\")\n",
    "ax[0].set_ylabel(r\"$f(t)$\")\n",
    "ax[1].plot(fftchirp[:int(fftchirp.size/2)])\n",
    "ax[1].set_xlabel(r\"$(Hz)$\")\n",
    "ax[1].set_ylabel(r\"$|\\hat{f}|$\")\n",
    "plt.tight_layout()\n"
   ]
  },
  {
   "cell_type": "code",
   "execution_count": null,
   "id": "79db4229-8460-45a4-9011-8257625c3b81",
   "metadata": {},
   "outputs": [],
   "source": [
    " # again, we have to be very thoughtful about how we choose seglength and noverlap\n",
    "\n",
    "bval1 = 10.\n",
    "bval2 = 20.\n",
    "fs = Npts\n",
    "seglength = int(.2*Npts)\n",
    "f1, t1, Zxx1 = stft(chirpvals, fs=fs, window = ('gaussian', bval1), nperseg=seglength, noverlap=int(seglength-10), boundary='odd')\n",
    "f2, t2, Zxx2 = stft(chirpvals, fs=fs, window = ('gaussian', bval2), nperseg=seglength, noverlap=int(seglength-10), boundary='odd')\n",
    "\n",
    "fig, axes = plt.subplots(1, 2, figsize=(10, 4))\n",
    "ax = axes.ravel()\n",
    "ax[0].pcolormesh(t1, f1, np.ma.log10(np.abs(Zxx1)), shading='gouraud')\n",
    "ax[0].set_title(f\"b={bval1}\")\n",
    "ax[0].set_xlabel(r\"$t$\")\n",
    "ax[0].set_ylabel(r\"$f ~(Hz)$\")\n",
    "ax[1].pcolormesh(t2, f2, np.ma.log10(np.abs(Zxx2)), shading='gouraud')\n",
    "ax[1].set_title(f\"b={bval2}\")\n",
    "ax[1].set_xlabel(r\"$t$\")\n",
    "ax[1].set_ylabel(r\"$f ~(Hz)$\")\n",
    "plt.tight_layout()"
   ]
  },
  {
   "cell_type": "markdown",
   "id": "9e4efe0b-7d15-486c-9bd1-0e6e419c9c53",
   "metadata": {},
   "source": [
    "### STFS on Star Wars"
   ]
  },
  {
   "cell_type": "code",
   "execution_count": null,
   "id": "e499fe33-b389-446f-9fa0-94dfb9d528bc",
   "metadata": {},
   "outputs": [],
   "source": [
    "rate, star_wars_data = wave_read('StarWars60.wav') # This is the first minute of the \n",
    "print(type(star_wars_data))"
   ]
  },
  {
   "cell_type": "code",
   "execution_count": null,
   "id": "7a787f8e-a00c-478e-9caf-fe59af49e536",
   "metadata": {},
   "outputs": [],
   "source": [
    "nsamp = star_wars_data.size\n",
    "star_wars_fs = nsamp/60. # number of samples taken over 60s is sampling frequency\n",
    "tvals = np.linspace(0., 60., nsamp)\n",
    "freqvals = np.arange(int(nsamp/2))/60.\n",
    "print(f\"File is sampled at {star_wars_fs} cycles/second\")\n",
    "freq_star = np.abs(fft(star_wars_data))"
   ]
  },
  {
   "cell_type": "code",
   "execution_count": null,
   "id": "84e1fbfb-d177-4750-89d3-39f292bbcfd2",
   "metadata": {},
   "outputs": [],
   "source": [
    "fig, axes = plt.subplots(1, 2, figsize=(10, 4))\n",
    "ax = axes.ravel()\n",
    "ax[0].plot(tvals, star_wars_data)\n",
    "ax[0].set_xlabel(r\"$t ~(s)$\")\n",
    "ax[0].set_ylabel(r\"$f(t)$\")\n",
    "ax[1].plot(freqvals/1000, freq_star[:int(nsamp/2)])\n",
    "ax[1].set_xlabel(r\"$(kHz)$\")\n",
    "ax[1].set_ylabel(r\"$|\\hat{f}|$\")\n",
    "plt.tight_layout()"
   ]
  },
  {
   "cell_type": "code",
   "execution_count": null,
   "id": "40290fbc-a862-4332-aa8e-d3995de42e9b",
   "metadata": {},
   "outputs": [],
   "source": [
    "bval2 = 20.\n",
    "seglength = int(nsamp/1000)\n",
    "f2, t2, Zxx2 = stft(star_wars_data, fs=star_wars_fs, window = ('gaussian', bval2), noverlap=int(seglength/10), nperseg=seglength)\n",
    "scalefac = np.max(np.abs(Zxx2))\n",
    "plt.pcolormesh(t2, f2/1000, np.ma.log10(np.abs(Zxx2)/scalefac), vmin=-2.5, vmax = 0, shading='gouraud')\n",
    "plt.colorbar()\n",
    "plt.title(f\"b={bval2}\")\n",
    "plt.xlabel(r\"$t$\")\n",
    "plt.ylabel(r\"$f ~(kHz)$\");"
   ]
  },
  {
   "cell_type": "markdown",
   "id": "87376059-ae96-4d4e-8c72-05ec2753968d",
   "metadata": {},
   "source": [
    "## Wavelets"
   ]
  },
  {
   "cell_type": "code",
   "execution_count": null,
   "id": "a8edb3b5",
   "metadata": {},
   "outputs": [],
   "source": [
    "# Perform a wavelet decomposition on the chirp signal\n",
    "\n",
    "tpi = 2.*np.pi\n",
    "chirp = lambda t, om0, om1: np.cos(tpi*t*(om0 + (om1-om0)*t**2./(3.*tw**2.)))\n",
    "f0 = 50 # 50 Hz, \n",
    "f1 = 2.*f0 # 100 Hz\n",
    "#Npts = int(4*f1) # sample at twice the highest frequency\n",
    "Npts = 2**8 \n",
    "tw = 1. # this is understood to be 1 second of time\n",
    "tvals = np.linspace(0., tw, Npts + 1)\n",
    "chirpvals = chirp(tvals, f0, f1)\n",
    "\n",
    "levels = 2\n",
    "wave_fun = 'coif4'\n",
    "coeffs = pywt.wavedec(chirpvals, wave_fun, level=levels)\n",
    "print(len(coeffs))\n"
   ]
  },
  {
   "cell_type": "code",
   "execution_count": null,
   "id": "0ed24a11",
   "metadata": {},
   "outputs": [],
   "source": [
    "# Plot the multi-resolution analysis represented by the coefficients\n",
    "fig = plt.figure(figsize=(20,24))\n",
    "siglength = coeffs[-1].size\n",
    "coeffsmat = np.zeros((levels+1, siglength))\n",
    "coeffsmat[0, :] = coeffs[levels]\n",
    "for jj in range(1, levels):\n",
    "    if jj < levels-1:\n",
    "        coeffsmat[jj, :] = np.tile(coeffs[levels-jj], 2**jj)[:siglength]\n",
    "    else:\n",
    "        coeffsmat[jj, :] = np.tile(coeffs[levels-jj], 2**jj)[:siglength]\n",
    "        coeffsmat[jj+1, :] = np.tile(coeffs[levels-jj-1], 2**jj)[:siglength]\n",
    "\n",
    "plt.imshow(coeffsmat)"
   ]
  },
  {
   "cell_type": "code",
   "execution_count": null,
   "id": "b991b440",
   "metadata": {},
   "outputs": [],
   "source": [
    "detail_recon = [None]*(levels+1)\n",
    "chirp_details = [None]*(levels+1)\n",
    "for ll in range(levels+1):\n",
    "    for jj in range(levels+1):\n",
    "        if jj == ll:\n",
    "            detail_recon[ll] = np.array([v for v in coeffs[ll]]) # zero out everything but the approximation coefficients.\n",
    "        else:\n",
    "            detail_recon[jj] = np.array([np.zeros_like(v) for v in coeffs[jj]]) # zero out everything but the approximation coefficients.  \n",
    "    chirp_details[ll] = pywt.waverec(detail_recon, wave_fun)"
   ]
  },
  {
   "cell_type": "code",
   "execution_count": null,
   "id": "f6178e9f",
   "metadata": {},
   "outputs": [],
   "source": [
    "fig, axes = plt.subplots(levels+1, 1, figsize=(10, 4))\n",
    "ax = axes.ravel()\n",
    "for jj in range(levels+1):\n",
    "    ax[jj].plot(chirp_details[jj])\n",
    "plt.tight_layout()"
   ]
  },
  {
   "cell_type": "code",
   "execution_count": null,
   "id": "842b7d32",
   "metadata": {},
   "outputs": [],
   "source": [
    "fig, axes = plt.subplots(levels+1, 1, figsize=(10, 4))\n",
    "ax = axes.ravel()\n",
    "for jj in range(levels+1):\n",
    "    chirp_freq = (np.abs( np.fft.fftshift(np.fft.fft(chirp_details[jj])) ))\n",
    "    ax[jj].plot(chirp_freq)\n",
    "plt.tight_layout()"
   ]
  },
  {
   "cell_type": "markdown",
   "id": "76578f0e",
   "metadata": {},
   "source": [
    "# Image Analysis"
   ]
  },
  {
   "cell_type": "markdown",
   "id": "62018514",
   "metadata": {},
   "source": [
    "Now, what happens when we use the 2D FFT on Beans?  "
   ]
  },
  {
   "cell_type": "code",
   "execution_count": null,
   "id": "102f73bf",
   "metadata": {},
   "outputs": [],
   "source": [
    "# Find, load, and convert image from textbook data\n",
    "# Image is in Lecture_Notes folder \n",
    "beans = io.imread('beans.jpg', as_gray=True)\n",
    "beans_freq = np.fft.fft2(beans)\n",
    "beans_freq_plot = np.log10(fftshift(np.abs(beans_freq)))\n",
    "\n",
    "fig, axes = plt.subplots(1, 2, figsize=(10, 4))\n",
    "ax = axes.ravel()\n",
    "\n",
    "ax[0].imshow(beans, cmap=plt.cm.gray)\n",
    "ax[1].matshow(beans_freq_plot)\n",
    "\n",
    "plt.tight_layout()"
   ]
  },
  {
   "cell_type": "markdown",
   "id": "94594052",
   "metadata": {},
   "source": [
    "So, there isn't really any clear interpretation of Beans in the FFT plot to the right.  Nevertheless, we can still do useful things with it.  To wit, we can look at, as you might have guessed, amplitude comparisons and only keep large Fourier coefficients.  "
   ]
  },
  {
   "cell_type": "code",
   "execution_count": null,
   "id": "22c9edc5",
   "metadata": {},
   "outputs": [],
   "source": [
    "max_freq = np.max(np.abs(beans_freq))\n",
    "indskp = np.ma.log10(np.abs(beans_freq)/max_freq) >= -3\n",
    "dog_filter = np.zeros((beans_freq.shape[0], beans_freq.shape[1]), dtype=np.complex128)\n",
    "dog_filter[indskp] = beans_freq[indskp]\n",
    "beans_reduced = gray_scale_convert(np.real(ifft2(dog_filter)))\n",
    "\n",
    "fig, axes = plt.subplots(1, 2, figsize=(10, 4))\n",
    "ax = axes.ravel()\n",
    "\n",
    "ax[0].imshow(beans, cmap=plt.cm.gray)\n",
    "ax[0].set_title(\"Original Beans\")\n",
    "ax[1].imshow(beans_reduced, cmap=plt.cm.gray)\n",
    "ax[1].set_title(\"Filtered Beans\")\n",
    "plt.tight_layout()"
   ]
  },
  {
   "cell_type": "markdown",
   "id": "35826220",
   "metadata": {},
   "source": [
    "So with almost none of the affiliated Fourier spectra, we get a weirdly good recreation of Beans, but in a very different way than what we did with the SVD.  Let's see how the original and altered images look though through that lense.  "
   ]
  },
  {
   "cell_type": "code",
   "execution_count": null,
   "id": "4033b6ef",
   "metadata": {},
   "outputs": [],
   "source": [
    "u, s, vh = np.linalg.svd(beans)\n",
    "ur, sr, vhr = np.linalg.svd(beans_reduced)\n",
    "\n",
    "plt.plot(np.ma.log10(s/s[0]), color='k')\n",
    "plt.plot(np.ma.log10(sr/sr[0]), color='r', ls='--')"
   ]
  },
  {
   "cell_type": "markdown",
   "id": "b2bdf690",
   "metadata": {},
   "source": [
    "So we see our FFT based approach is similar to chopping off dimensions in the SVD, though perhaps not quite as systematic in how we can describe the effect. "
   ]
  },
  {
   "cell_type": "code",
   "execution_count": null,
   "id": "c4e82ce6-0309-4a7e-9a0d-fdb63b27da5c",
   "metadata": {},
   "outputs": [],
   "source": [
    "levels = 4\n",
    "print(beans.shape)\n",
    "coeffs = pywt.wavedec2(beans, 'db1', level=levels) # coeffs = (cA, (cH1, cV1, cD1), (cH2, cV2, cD2), etc...)"
   ]
  },
  {
   "cell_type": "code",
   "execution_count": null,
   "id": "76be4ea2-aa17-44b2-9b17-a1973d37172c",
   "metadata": {},
   "outputs": [],
   "source": [
    "nrows, ncols = coeffs[0].shape\n",
    "print(coeffs[0].shape)\n",
    "\n",
    "trows = nrows*int(2**levels)\n",
    "tcols = ncols*int(2**levels)\n",
    "\n",
    "coeffmat = np.zeros((trows, tcols))\n",
    "\n",
    "for jj in range(levels+1):\n",
    "    if jj == 0:\n",
    "        coeffmat[:nrows , :ncols] = gray_scale_convert(coeffs[jj])\n",
    "    else:\n",
    "        sclfac = int(2**(jj-1))\n",
    "        for ll in range(3):\n",
    "            coeffmat[:sclfac*nrows, sclfac*ncols:2*sclfac*ncols] = gray_scale_convert(coeffs[jj][ll][:, :])\n",
    "            coeffmat[sclfac*nrows:2*sclfac*nrows, :sclfac*ncols] = gray_scale_convert(coeffs[jj][ll][:, :])\n",
    "            coeffmat[sclfac*nrows:2*sclfac*nrows, sclfac*ncols:2*sclfac*ncols] = gray_scale_convert(coeffs[jj][ll][:, :])"
   ]
  },
  {
   "cell_type": "code",
   "execution_count": null,
   "id": "36daf90e-97b0-4fa5-8364-2c0467bd7569",
   "metadata": {},
   "outputs": [],
   "source": [
    "plt.imshow(coeffs[0], interpolation='nearest', cmap=plt.cm.grey)"
   ]
  },
  {
   "cell_type": "code",
   "execution_count": null,
   "id": "2e26ce49-6a69-4ad1-8dc4-a4bda8c67e3d",
   "metadata": {},
   "outputs": [],
   "source": [
    "fig, axes = plt.subplots(1, 1, figsize=(10, 8))\n",
    "axes.imshow(coeffmat, interpolation='nearest', cmap=plt.cm.grey)"
   ]
  },
  {
   "cell_type": "code",
   "execution_count": null,
   "id": "34f8932f-3f9d-4fa8-b32d-d4d0f8548262",
   "metadata": {},
   "outputs": [],
   "source": [
    "recon = [None]*(levels+1)\n",
    "recon[0] = coeffs[0]\n",
    "for ll in range(levels):\n",
    "    recon[ll+1] = tuple([np.zeros_like(v) for v in coeffs[ll+1]]) # zero out everything but the approximation coefficients.  \n",
    "beans_approx = pywt.waverec2(tuple(recon), 'db1')"
   ]
  },
  {
   "cell_type": "code",
   "execution_count": null,
   "id": "438c5c9c-3087-4769-95a2-a80ff77b6f29",
   "metadata": {},
   "outputs": [],
   "source": [
    "fig, axes = plt.subplots(1, 2, figsize=(10, 4))\n",
    "ax = axes.ravel()\n",
    "ax[0].imshow(beans, cmap=plt.cm.grey)\n",
    "ax[0].set_title(\"Original Beans\")\n",
    "ax[1].imshow(gray_scale_convert(beans_approx), cmap=plt.cm.grey)\n",
    "ax[1].set_title(\"Wavelet Filtered Beans\")\n",
    "plt.tight_layout()"
   ]
  },
  {
   "cell_type": "code",
   "execution_count": null,
   "id": "1148ddcc-61ea-42d0-bf39-4201ea1da5a1",
   "metadata": {},
   "outputs": [],
   "source": [
    "detail_recon = [None]*(levels+1)\n",
    "beans_details = [None]*(levels)\n",
    "for ll in range(levels):\n",
    "    for jj in range(levels+1):\n",
    "        if jj != ll:\n",
    "            detail_recon[jj] = tuple([np.zeros_like(v) for v in coeffs[jj]]) # zero out everything but the approximation coefficients.  \n",
    "        else:\n",
    "            detail_recon[ll] = tuple([v for v in coeffs[ll]]) # zero out everything but the approximation coefficients.\n",
    "    beans_details[ll] = pywt.waverec2(tuple(detail_recon), 'db1')"
   ]
  },
  {
   "cell_type": "code",
   "execution_count": null,
   "id": "c89059b2-b823-4787-a1f6-a8a2e329904c",
   "metadata": {},
   "outputs": [],
   "source": [
    "plt.imshow(gray_scale_convert(beans_details[3]))\n",
    "\n",
    "# Get brightness range - i.e. darkest and lightest pixels\n",
    "min=np.min(gray_scale_convert(beans_details[0]))        # result=144\n",
    "max=np.max(gray_scale_convert(beans_details[0]))        # result=216\n",
    "\n",
    "\n"
   ]
  }
 ],
 "metadata": {
  "kernelspec": {
   "display_name": "math_596_fall_2024",
   "language": "python",
   "name": "python3"
  },
  "language_info": {
   "codemirror_mode": {
    "name": "ipython",
    "version": 3
   },
   "file_extension": ".py",
   "mimetype": "text/x-python",
   "name": "python",
   "nbconvert_exporter": "python",
   "pygments_lexer": "ipython3",
   "version": "3.12.4"
  }
 },
 "nbformat": 4,
 "nbformat_minor": 5
}
